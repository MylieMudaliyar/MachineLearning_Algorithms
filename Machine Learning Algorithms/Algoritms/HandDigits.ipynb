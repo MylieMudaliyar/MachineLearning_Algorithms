{
 "cells": [
  {
   "cell_type": "code",
   "execution_count": 1,
   "id": "22f46938",
   "metadata": {},
   "outputs": [
    {
     "data": {
      "text/plain": [
       "'2.8.0'"
      ]
     },
     "execution_count": 1,
     "metadata": {},
     "output_type": "execute_result"
    }
   ],
   "source": [
    "import tensorflow as tf\n",
    "tf.__version__"
   ]
  },
  {
   "cell_type": "code",
   "execution_count": 2,
   "id": "f4e05a58",
   "metadata": {},
   "outputs": [
    {
     "name": "stdout",
     "output_type": "stream",
     "text": [
      "Downloading data from https://storage.googleapis.com/tensorflow/tf-keras-datasets/mnist.npz\n",
      "11493376/11490434 [==============================] - 1s 0us/step\n",
      "11501568/11490434 [==============================] - 1s 0us/step\n"
     ]
    }
   ],
   "source": [
    "mnist = tf.keras.datasets.mnist     #28x28 imgs of handwritten digits from 0-9\n",
    "(x_train,y_train),(x_test,y_test) = mnist.load_data()"
   ]
  },
  {
   "cell_type": "code",
   "execution_count": 13,
   "id": "aba6a4f8",
   "metadata": {},
   "outputs": [
    {
     "data": {
      "image/png": "[encoded data removed]",
      "text/plain": [
       "<Figure size 432x288 with 1 Axes>"
      ]
     },
     "metadata": {
      "needs_background": "light"
     },
     "output_type": "display_data"
    }
   ],
   "source": [
    "import matplotlib.pyplot as plt\n",
    "plt.imshow(x_train[21],cmap=plt.cm.binary)\n",
    "plt.show()"
   ]
  },
  {
   "cell_type": "code",
   "execution_count": 14,
   "id": "46e32fd3",
   "metadata": {},
   "outputs": [
    {
     "name": "stdout",
     "output_type": "stream",
     "text": [
      "[[  0   0   0   0   0   0   0   0   0   0   0   0   0   0   0   0   0   0\n",
      "    0   0   0   0   0   0   0   0   0   0]\n",
      " [  0   0   0   0   0   0   0   0   0   0   0   0   0   0   0   0   0   0\n",
      "    0   0   0   0   0   0   0   0   0   0]\n",
      " [  0   0   0   0   0   0   0   0   0   0   0   0   0   0   0   0   0   0\n",
      "    0   0   0   0   0   0   0   0   0   0]\n",
      " [  0   0   0   0   0   0   0   0   0   0   0   0   0   0   0   0   0   0\n",
      "    0   0   0   0   0   0   0   0   0   0]\n",
      " [  0   0   0   0   0   0   0   0   0   0   0   0   0   0   0   0   0  64\n",
      "  253 255  63   0   0   0   0   0   0   0]\n",
      " [  0   0   0   0   0   0   0   0   0   0   0   0   0   0   0   0  96 205\n",
      "  251 253 205 111   4   0   0   0   0   0]\n",
      " [  0   0   0   0   0   0   0   0   0   0   0   0   0   0   0  96 189 251\n",
      "  251 253 251 251  31   0   0   0   0   0]\n",
      " [  0   0   0   0   0   0   0   0   0   0   0   0  16  64 223 244 251 251\n",
      "  211 213 251 251  31   0   0   0   0   0]\n",
      " [  0   0   0   0   0   0   0   0   0   0   0  80 181 251 253 251 251 251\n",
      "   94  96 251 251  31   0   0   0   0   0]\n",
      " [  0   0   0   0   0   0   0   0   0   0  92 253 253 253 255 253 253 253\n",
      "   95  96 253 253  31   0   0   0   0   0]\n",
      " [  0   0   0   0   0   0   0   0   0  92 236 251 243 220 233 251 251 243\n",
      "   82  96 251 251  31   0   0   0   0   0]\n",
      " [  0   0   0   0   0   0   0   0  80 253 251 251 188   0  96 251 251 109\n",
      "    0  96 251 251  31   0   0   0   0   0]\n",
      " [  0   0   0   0   0   0   0  96 240 253 243 188  42   0  96 204 109   4\n",
      "    0  12 197 251  31   0   0   0   0   0]\n",
      " [  0   0   0   0   0   0   0 221 251 253 121   0   0   0  36  23   0   0\n",
      "    0   0 190 251  31   0   0   0   0   0]\n",
      " [  0   0   0   0   0   0  48 234 253   0   0   0   0   0   0   0   0   0\n",
      "    0   0 191 253  31   0   0   0   0   0]\n",
      " [  0   0   0   0   0  44 221 251 251   0   0   0   0   0   0   0   0   0\n",
      "    0  12 197 251  31   0   0   0   0   0]\n",
      " [  0   0   0   0   0 190 251 251 251   0   0   0   0   0   0   0   0   0\n",
      "    0  96 251 251  31   0   0   0   0   0]\n",
      " [  0   0   0   0   0 190 251 251 113   0   0   0   0   0   0   0   0   0\n",
      "   40 234 251 219  23   0   0   0   0   0]\n",
      " [  0   0   0   0   0 190 251 251  94   0   0   0   0   0   0   0   0  40\n",
      "  217 253 231  47   0   0   0   0   0   0]\n",
      " [  0   0   0   0   0 191 253 253 253   0   0   0   0   0   0  12 174 253\n",
      "  253 219  39   0   0   0   0   0   0   0]\n",
      " [  0   0   0   0   0  67 236 251 251 191 190 111  72 190 191 197 251 243\n",
      "  121  39   0   0   0   0   0   0   0   0]\n",
      " [  0   0   0   0   0   0  63 236 251 253 251 251 251 251 253 251 188  94\n",
      "    0   0   0   0   0   0   0   0   0   0]\n",
      " [  0   0   0   0   0   0   0  27 129 253 251 251 251 251 229 168  15   0\n",
      "    0   0   0   0   0   0   0   0   0   0]\n",
      " [  0   0   0   0   0   0   0   0   0  95 212 251 211  94  59   0   0   0\n",
      "    0   0   0   0   0   0   0   0   0   0]\n",
      " [  0   0   0   0   0   0   0   0   0   0   0   0   0   0   0   0   0   0\n",
      "    0   0   0   0   0   0   0   0   0   0]\n",
      " [  0   0   0   0   0   0   0   0   0   0   0   0   0   0   0   0   0   0\n",
      "    0   0   0   0   0   0   0   0   0   0]\n",
      " [  0   0   0   0   0   0   0   0   0   0   0   0   0   0   0   0   0   0\n",
      "    0   0   0   0   0   0   0   0   0   0]\n",
      " [  0   0   0   0   0   0   0   0   0   0   0   0   0   0   0   0   0   0\n",
      "    0   0   0   0   0   0   0   0   0   0]]\n"
     ]
    }
   ],
   "source": [
    "print(x_train[21])"
   ]
  },
  {
   "cell_type": "code",
   "execution_count": 15,
   "id": "ef5d8cd1",
   "metadata": {},
   "outputs": [],
   "source": [
    "#normalize the data betwn 0 to 1\n",
    "x_train=tf.keras.utils.normalize(x_train,axis=1)\n",
    "x_test=tf.keras.utils.normalize(x_test,axis=1)"
   ]
  },
  {
   "cell_type": "code",
   "execution_count": 16,
   "id": "a005e6b5",
   "metadata": {},
   "outputs": [
    {
     "data": {
      "image/png": "[encoded data removed]",
      "text/plain": [
       "<Figure size 432x288 with 1 Axes>"
      ]
     },
     "metadata": {
      "needs_background": "light"
     },
     "output_type": "display_data"
    }
   ],
   "source": [
    "plt.imshow(x_train[21],cmap=plt.cm.binary)\n",
    "plt.show()"
   ]
  },
  {
   "cell_type": "code",
   "execution_count": 17,
   "id": "306078f9",
   "metadata": {},
   "outputs": [
    {
     "name": "stdout",
     "output_type": "stream",
     "text": [
      "[[0.         0.         0.         0.         0.         0.\n",
      "  0.         0.         0.         0.         0.         0.\n",
      "  0.         0.         0.         0.         0.         0.\n",
      "  0.         0.         0.         0.         0.         0.\n",
      "  0.         0.         0.         0.        ]\n",
      " [0.         0.         0.         0.         0.         0.\n",
      "  0.         0.         0.         0.         0.         0.\n",
      "  0.         0.         0.         0.         0.         0.\n",
      "  0.         0.         0.         0.         0.         0.\n",
      "  0.         0.         0.         0.        ]\n",
      " [0.         0.         0.         0.         0.         0.\n",
      "  0.         0.         0.         0.         0.         0.\n",
      "  0.         0.         0.         0.         0.         0.\n",
      "  0.         0.         0.         0.         0.         0.\n",
      "  0.         0.         0.         0.        ]\n",
      " [0.         0.         0.         0.         0.         0.\n",
      "  0.         0.         0.         0.         0.         0.\n",
      "  0.         0.         0.         0.         0.         0.\n",
      "  0.         0.         0.         0.         0.         0.\n",
      "  0.         0.         0.         0.        ]\n",
      " [0.         0.         0.         0.         0.         0.\n",
      "  0.         0.         0.         0.         0.         0.\n",
      "  0.         0.         0.         0.         0.         0.090188\n",
      "  0.40697759 0.37885946 0.07245252 0.         0.         0.\n",
      "  0.         0.         0.         0.        ]\n",
      " [0.         0.         0.         0.         0.         0.\n",
      "  0.         0.         0.         0.         0.         0.\n",
      "  0.         0.         0.         0.         0.1355374  0.28888344\n",
      "  0.40376037 0.37588801 0.23575821 0.12753415 0.03793899 0.\n",
      "  0.         0.         0.         0.        ]\n",
      " [0.         0.         0.         0.         0.         0.\n",
      "  0.         0.         0.         0.         0.         0.\n",
      "  0.         0.         0.         0.13657447 0.26683925 0.35370606\n",
      "  0.40376037 0.37588801 0.28866005 0.28838804 0.29402714 0.\n",
      "  0.         0.         0.         0.        ]\n",
      " [0.         0.         0.         0.         0.         0.\n",
      "  0.         0.         0.         0.         0.         0.\n",
      "  0.02634338 0.10811119 0.34861117 0.34712677 0.35437382 0.35370606\n",
      "  0.33941609 0.31645908 0.28866005 0.28838804 0.29402714 0.\n",
      "  0.         0.         0.         0.        ]\n",
      " [0.         0.         0.         0.         0.         0.\n",
      "  0.         0.         0.         0.         0.         0.1215644\n",
      "  0.29800952 0.42399858 0.39550953 0.35708533 0.35437382 0.35370606\n",
      "  0.15120906 0.14262944 0.28866005 0.28838804 0.29402714 0.\n",
      "  0.         0.         0.         0.        ]\n",
      " [0.         0.         0.         0.         0.         0.\n",
      "  0.         0.         0.         0.         0.14404977 0.38444743\n",
      "  0.41655474 0.42737706 0.39863609 0.35993063 0.35719751 0.35652444\n",
      "  0.15281767 0.14262944 0.29096013 0.29068595 0.29402714 0.\n",
      "  0.         0.         0.         0.        ]\n",
      " [0.         0.         0.         0.         0.         0.\n",
      "  0.         0.         0.         0.15043307 0.36951898 0.38140832\n",
      "  0.40009013 0.37163223 0.36424396 0.35708533 0.35437382 0.34243256\n",
      "  0.13190578 0.14262944 0.28866005 0.28838804 0.29402714 0.\n",
      "  0.         0.         0.         0.        ]\n",
      " [0.         0.         0.         0.         0.         0.\n",
      "  0.         0.         0.10833894 0.41369094 0.39300535 0.38140832\n",
      "  0.30953475 0.         0.15007476 0.35708533 0.35437382 0.15360144\n",
      "  0.         0.14262944 0.28866005 0.28838804 0.29402714 0.\n",
      "  0.         0.         0.         0.        ]\n",
      " [0.         0.         0.         0.         0.         0.\n",
      "  0.         0.12965257 0.32501682 0.41369094 0.38047929 0.28567635\n",
      "  0.06915138 0.         0.15007476 0.29022075 0.15389142 0.00563675\n",
      "  0.         0.01782868 0.22655789 0.28838804 0.29402714 0.\n",
      "  0.         0.         0.         0.        ]\n",
      " [0.         0.         0.         0.         0.         0.\n",
      "  0.         0.29847101 0.33991343 0.41369094 0.18945676 0.\n",
      "  0.         0.         0.05627804 0.03272097 0.         0.\n",
      "  0.         0.         0.21850761 0.28838804 0.29402714 0.\n",
      "  0.         0.         0.         0.        ]\n",
      " [0.         0.         0.         0.         0.         0.\n",
      "  0.07957869 0.31602813 0.3426219  0.         0.         0.\n",
      "  0.         0.         0.         0.         0.         0.\n",
      "  0.         0.         0.21965765 0.29068595 0.29402714 0.\n",
      "  0.         0.         0.         0.        ]\n",
      " [0.         0.         0.         0.         0.         0.11315354\n",
      "  0.36639353 0.33898744 0.33991343 0.         0.         0.\n",
      "  0.         0.         0.         0.         0.         0.\n",
      "  0.         0.01782868 0.22655789 0.28838804 0.29402714 0.\n",
      "  0.         0.         0.         0.        ]\n",
      " [0.         0.         0.         0.         0.         0.48861758\n",
      "  0.41613021 0.33898744 0.33991343 0.         0.         0.\n",
      "  0.         0.         0.         0.         0.         0.\n",
      "  0.         0.14262944 0.28866005 0.28838804 0.29402714 0.\n",
      "  0.         0.         0.         0.        ]\n",
      " [0.         0.         0.         0.         0.         0.48861758\n",
      "  0.41613021 0.33898744 0.15302875 0.         0.         0.\n",
      "  0.         0.         0.         0.         0.         0.\n",
      "  0.06434428 0.34765927 0.28866005 0.25162144 0.21814917 0.\n",
      "  0.         0.         0.         0.        ]\n",
      " [0.         0.         0.         0.         0.         0.48861758\n",
      "  0.41613021 0.33898744 0.12729825 0.         0.         0.\n",
      "  0.         0.         0.         0.         0.         0.0563675\n",
      "  0.34906773 0.37588801 0.26565925 0.05400095 0.         0.\n",
      "  0.         0.         0.         0.        ]\n",
      " [0.         0.         0.         0.         0.         0.49118925\n",
      "  0.41944599 0.34168854 0.3426219  0.         0.         0.\n",
      "  0.         0.         0.         0.01707181 0.24566153 0.35652444\n",
      "  0.40697759 0.32537342 0.04485156 0.         0.         0.\n",
      "  0.         0.         0.         0.        ]\n",
      " [0.         0.         0.         0.         0.         0.17230199\n",
      "  0.39126187 0.33898744 0.33991343 0.31231213 0.29749409 0.16867061\n",
      "  0.11854522 0.3209551  0.29858625 0.28026219 0.35437382 0.34243256\n",
      "  0.19464146 0.05794321 0.         0.         0.         0.\n",
      "  0.         0.         0.         0.        ]\n",
      " [0.         0.         0.         0.         0.         0.\n",
      "  0.10444702 0.31872923 0.33991343 0.41369094 0.39300535 0.38140832\n",
      "  0.41326182 0.42399858 0.39550953 0.35708533 0.2654274  0.13246362\n",
      "  0.         0.         0.         0.         0.         0.\n",
      "  0.         0.         0.         0.        ]\n",
      " [0.         0.         0.         0.         0.         0.\n",
      "  0.         0.03646478 0.17469654 0.41369094 0.39300535 0.38140832\n",
      "  0.41326182 0.42399858 0.35799084 0.23900532 0.02117772 0.\n",
      "  0.         0.         0.         0.         0.         0.\n",
      "  0.         0.         0.         0.        ]\n",
      " [0.         0.         0.         0.         0.         0.\n",
      "  0.         0.         0.         0.1553385  0.33194078 0.38140832\n",
      "  0.34740336 0.15878831 0.09223345 0.         0.         0.\n",
      "  0.         0.         0.         0.         0.         0.\n",
      "  0.         0.         0.         0.        ]\n",
      " [0.         0.         0.         0.         0.         0.\n",
      "  0.         0.         0.         0.         0.         0.\n",
      "  0.         0.         0.         0.         0.         0.\n",
      "  0.         0.         0.         0.         0.         0.\n",
      "  0.         0.         0.         0.        ]\n",
      " [0.         0.         0.         0.         0.         0.\n",
      "  0.         0.         0.         0.         0.         0.\n",
      "  0.         0.         0.         0.         0.         0.\n",
      "  0.         0.         0.         0.         0.         0.\n",
      "  0.         0.         0.         0.        ]\n",
      " [0.         0.         0.         0.         0.         0.\n",
      "  0.         0.         0.         0.         0.         0.\n",
      "  0.         0.         0.         0.         0.         0.\n",
      "  0.         0.         0.         0.         0.         0.\n",
      "  0.         0.         0.         0.        ]\n",
      " [0.         0.         0.         0.         0.         0.\n",
      "  0.         0.         0.         0.         0.         0.\n",
      "  0.         0.         0.         0.         0.         0.\n",
      "  0.         0.         0.         0.         0.         0.\n",
      "  0.         0.         0.         0.        ]]\n"
     ]
    }
   ],
   "source": [
    "print(x_train[21])   #now the values would be betwn 0-1"
   ]
  },
  {
   "cell_type": "code",
   "execution_count": 19,
   "id": "86a3390c",
   "metadata": {},
   "outputs": [
    {
     "name": "stdout",
     "output_type": "stream",
     "text": [
      "Epoch 1/3\n",
      "1875/1875 [==============================] - 2s 1ms/step - loss: 0.2643 - accuracy: 0.9216\n",
      "Epoch 2/3\n",
      "1875/1875 [==============================] - 2s 1ms/step - loss: 0.1096 - accuracy: 0.9665\n",
      "Epoch 3/3\n",
      "1875/1875 [==============================] - 2s 1ms/step - loss: 0.0730 - accuracy: 0.9772\n"
     ]
    },
    {
     "data": {
      "text/plain": [
       "<keras.callbacks.History at 0x18f543d9b08>"
      ]
     },
     "execution_count": 19,
     "metadata": {},
     "output_type": "execute_result"
    }
   ],
   "source": [
    "model=tf.keras.models.Sequential()\n",
    "model.add(tf.keras.layers.Flatten(input_shape=(28,28)))\n",
    "model.add(tf.keras.layers.Dense(128,activation=tf.nn.relu))\n",
    "model.add(tf.keras.layers.Dense(128,activation=tf.nn.relu))\n",
    "model.add(tf.keras.layers.Dense(10,activation=tf.nn.softmax))\n",
    "\n",
    "model.compile(optimizer='adam',loss='sparse_categorical_crossentropy',metrics=['accuracy'])\n",
    "model.fit(x_train,y_train,epochs=3)\n",
    "\n"
   ]
  },
  {
   "cell_type": "code",
   "execution_count": 22,
   "id": "e6debf90",
   "metadata": {},
   "outputs": [
    {
     "name": "stdout",
     "output_type": "stream",
     "text": [
      "313/313 [==============================] - 0s 778us/step - loss: 0.0824 - accuracy: 0.9751\n",
      "0.0823865756392479 0.9750999808311462\n"
     ]
    }
   ],
   "source": [
    "val_loss,val_acc=model.evaluate(x_test,y_test)\n",
    "print(val_loss,val_acc)\n"
   ]
  },
  {
   "cell_type": "code",
   "execution_count": 23,
   "id": "19b431fc",
   "metadata": {},
   "outputs": [
    {
     "name": "stdout",
     "output_type": "stream",
     "text": [
      "INFO:tensorflow:Assets written to: HandDigits.model\\assets\n"
     ]
    }
   ],
   "source": [
    "model.save('HandDigits.model')\n"
   ]
  },
  {
   "cell_type": "code",
   "execution_count": 24,
   "id": "ba3cfaa2",
   "metadata": {},
   "outputs": [],
   "source": [
    "new_model=tf.keras.models.load_model('HandDigits.model')"
   ]
  },
  {
   "cell_type": "code",
   "execution_count": 25,
   "id": "006824ba",
   "metadata": {},
   "outputs": [],
   "source": [
    "predictions=new_model.predict([x_test])"
   ]
  },
  {
   "cell_type": "code",
   "execution_count": 26,
   "id": "14e4ff11",
   "metadata": {},
   "outputs": [
    {
     "name": "stdout",
     "output_type": "stream",
     "text": [
      "[[4.4271014e-09 5.7698071e-07 1.8733752e-05 ... 9.9977356e-01\n",
      "  4.3146653e-07 7.0389819e-07]\n",
      " [1.4726667e-06 5.1996332e-05 9.9993849e-01 ... 9.5298056e-08\n",
      "  9.8140646e-08 1.3022629e-13]\n",
      " [1.0108496e-08 9.9996340e-01 8.4803123e-06 ... 9.4845373e-06\n",
      "  9.6874437e-06 7.1568124e-08]\n",
      " ...\n",
      " [6.1044916e-09 4.6316507e-07 3.4927027e-08 ... 8.4819359e-05\n",
      "  1.5087165e-06 7.5537841e-06]\n",
      " [1.6790217e-08 1.8409391e-07 7.0557718e-08 ... 1.2834328e-08\n",
      "  1.5040410e-03 7.1625657e-08]\n",
      " [5.7000858e-07 1.0475916e-08 3.5858683e-08 ... 9.8447739e-10\n",
      "  1.9575778e-07 1.6412544e-08]]\n"
     ]
    }
   ],
   "source": [
    "print(predictions)"
   ]
  },
  {
   "cell_type": "code",
   "execution_count": 27,
   "id": "2f9c2b74",
   "metadata": {},
   "outputs": [],
   "source": [
    "import numpy as np"
   ]
  },
  {
   "cell_type": "code",
   "execution_count": 31,
   "id": "a24f6ac0",
   "metadata": {},
   "outputs": [
    {
     "name": "stdout",
     "output_type": "stream",
     "text": [
      "2\n"
     ]
    }
   ],
   "source": [
    "print(np.argmax(predictions[1]))"
   ]
  },
  {
   "cell_type": "code",
   "execution_count": 33,
   "id": "110bdda7",
   "metadata": {},
   "outputs": [
    {
     "data": {
      "image/png": "[encoded data removed]",
      "text/plain": [
       "<Figure size 432x288 with 1 Axes>"
      ]
     },
     "metadata": {
      "needs_background": "light"
     },
     "output_type": "display_data"
    }
   ],
   "source": [
    "plt.imshow(x_test[1])\n",
    "plt.show()"
   ]
  },
  {
   "cell_type": "code",
   "execution_count": null,
   "id": "50f6ac5d",
   "metadata": {},
   "outputs": [],
   "source": []
  }
 ],
 "metadata": {
  "kernelspec": {
   "display_name": "Python 3 (ipykernel)",
   "language": "python",
   "name": "python3"
  },
  "language_info": {
   "codemirror_mode": {
    "name": "ipython",
    "version": 3
   },
   "file_extension": ".py",
   "mimetype": "text/x-python",
   "name": "python",
   "nbconvert_exporter": "python",
   "pygments_lexer": "ipython3",
   "version": "3.9.7"
  }
 },
 "nbformat": 4,
 "nbformat_minor": 5
}
